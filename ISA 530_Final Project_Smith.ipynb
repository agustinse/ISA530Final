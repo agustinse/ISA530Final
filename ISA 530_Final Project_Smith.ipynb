{
 "cells": [
  {
   "cell_type": "markdown",
   "metadata": {},
   "source": [
    "## Imports"
   ]
  },
  {
   "cell_type": "code",
   "execution_count": 78,
   "metadata": {
    "ExecuteTime": {
     "end_time": "2023-11-15T16:40:13.911143Z",
     "start_time": "2023-11-15T16:40:13.890633Z"
    }
   },
   "outputs": [],
   "source": [
    "#inporting packages\n",
    "from sci378 import *\n",
    "import numpy as np\n",
    "import pandas as pd\n",
    "import matplotlib.pyplot as plt\n",
    "import seaborn as sns\n",
    "\n",
    "import itertools\n",
    "import warnings\n",
    "\n",
    "from sklearn.preprocessing import MinMaxScaler\n",
    "from sklearn.model_selection import train_test_split\n",
    "from sklearn.linear_model import LogisticRegression\n",
    "from sklearn.linear_model import LinearRegression\n",
    "from sklearn.metrics import precision_score, recall_score, accuracy_score, f1_score, roc_curve, auc, confusion_matrix\n",
    "from sklearn.neighbors import KNeighborsClassifier\n",
    "from sklearn.tree import DecisionTreeClassifier\n",
    "from sklearn.ensemble import RandomForestClassifier\n",
    "from sklearn import metrics\n",
    "from sklearn.metrics import classification_report"
   ]
  },
  {
   "cell_type": "code",
   "execution_count": 39,
   "metadata": {
    "ExecuteTime": {
     "end_time": "2023-11-15T16:27:27.769626Z",
     "start_time": "2023-11-15T16:27:27.159575Z"
    },
    "scrolled": true
   },
   "outputs": [
    {
     "data": {
      "text/html": [
       "<div>\n",
       "<style scoped>\n",
       "    .dataframe tbody tr th:only-of-type {\n",
       "        vertical-align: middle;\n",
       "    }\n",
       "\n",
       "    .dataframe tbody tr th {\n",
       "        vertical-align: top;\n",
       "    }\n",
       "\n",
       "    .dataframe thead th {\n",
       "        text-align: right;\n",
       "    }\n",
       "</style>\n",
       "<table border=\"1\" class=\"dataframe\">\n",
       "  <thead>\n",
       "    <tr style=\"text-align: right;\">\n",
       "      <th></th>\n",
       "      <th>Unnamed: 0</th>\n",
       "      <th>Age</th>\n",
       "      <th>Accessibility</th>\n",
       "      <th>EdLevel</th>\n",
       "      <th>Employment</th>\n",
       "      <th>Gender</th>\n",
       "      <th>MentalHealth</th>\n",
       "      <th>MainBranch</th>\n",
       "      <th>YearsCode</th>\n",
       "      <th>YearsCodePro</th>\n",
       "      <th>Country</th>\n",
       "      <th>PreviousSalary</th>\n",
       "      <th>HaveWorkedWith</th>\n",
       "      <th>ComputerSkills</th>\n",
       "      <th>Employed</th>\n",
       "    </tr>\n",
       "  </thead>\n",
       "  <tbody>\n",
       "    <tr>\n",
       "      <th>0</th>\n",
       "      <td>0</td>\n",
       "      <td>&lt;35</td>\n",
       "      <td>No</td>\n",
       "      <td>Master</td>\n",
       "      <td>1</td>\n",
       "      <td>Man</td>\n",
       "      <td>No</td>\n",
       "      <td>Dev</td>\n",
       "      <td>7</td>\n",
       "      <td>4</td>\n",
       "      <td>Sweden</td>\n",
       "      <td>51552.0</td>\n",
       "      <td>C++;Python;Git;PostgreSQL</td>\n",
       "      <td>4</td>\n",
       "      <td>0</td>\n",
       "    </tr>\n",
       "    <tr>\n",
       "      <th>1</th>\n",
       "      <td>1</td>\n",
       "      <td>&lt;35</td>\n",
       "      <td>No</td>\n",
       "      <td>Undergraduate</td>\n",
       "      <td>1</td>\n",
       "      <td>Man</td>\n",
       "      <td>No</td>\n",
       "      <td>Dev</td>\n",
       "      <td>12</td>\n",
       "      <td>5</td>\n",
       "      <td>Spain</td>\n",
       "      <td>46482.0</td>\n",
       "      <td>Bash/Shell;HTML/CSS;JavaScript;Node.js;SQL;Typ...</td>\n",
       "      <td>12</td>\n",
       "      <td>1</td>\n",
       "    </tr>\n",
       "  </tbody>\n",
       "</table>\n",
       "</div>"
      ],
      "text/plain": [
       "   Unnamed: 0  Age Accessibility        EdLevel  Employment Gender  \\\n",
       "0           0  <35            No         Master           1    Man   \n",
       "1           1  <35            No  Undergraduate           1    Man   \n",
       "\n",
       "  MentalHealth MainBranch  YearsCode  YearsCodePro Country  PreviousSalary  \\\n",
       "0           No        Dev          7             4  Sweden         51552.0   \n",
       "1           No        Dev         12             5   Spain         46482.0   \n",
       "\n",
       "                                      HaveWorkedWith  ComputerSkills  Employed  \n",
       "0                          C++;Python;Git;PostgreSQL               4         0  \n",
       "1  Bash/Shell;HTML/CSS;JavaScript;Node.js;SQL;Typ...              12         1  "
      ]
     },
     "execution_count": 39,
     "metadata": {},
     "output_type": "execute_result"
    }
   ],
   "source": [
    "#loading in dataset\n",
    "df = pd.read_csv(\"stackoverflow_full.csv\")\n",
    "df.head(2)"
   ]
  },
  {
   "cell_type": "markdown",
   "metadata": {},
   "source": [
    "## Data cleaning"
   ]
  },
  {
   "cell_type": "code",
   "execution_count": 40,
   "metadata": {
    "ExecuteTime": {
     "end_time": "2023-11-15T16:27:28.599555Z",
     "start_time": "2023-11-15T16:27:28.482025Z"
    }
   },
   "outputs": [
    {
     "name": "stdout",
     "output_type": "stream",
     "text": [
      "<class 'pandas.core.frame.DataFrame'>\n",
      "RangeIndex: 73462 entries, 0 to 73461\n",
      "Data columns (total 15 columns):\n",
      " #   Column          Non-Null Count  Dtype  \n",
      "---  ------          --------------  -----  \n",
      " 0   Unnamed: 0      73462 non-null  int64  \n",
      " 1   Age             73462 non-null  object \n",
      " 2   Accessibility   73462 non-null  object \n",
      " 3   EdLevel         73462 non-null  object \n",
      " 4   Employment      73462 non-null  int64  \n",
      " 5   Gender          73462 non-null  object \n",
      " 6   MentalHealth    73462 non-null  object \n",
      " 7   MainBranch      73462 non-null  object \n",
      " 8   YearsCode       73462 non-null  int64  \n",
      " 9   YearsCodePro    73462 non-null  int64  \n",
      " 10  Country         73462 non-null  object \n",
      " 11  PreviousSalary  73462 non-null  float64\n",
      " 12  HaveWorkedWith  73399 non-null  object \n",
      " 13  ComputerSkills  73462 non-null  int64  \n",
      " 14  Employed        73462 non-null  int64  \n",
      "dtypes: float64(1), int64(6), object(8)\n",
      "memory usage: 6.2+ MB\n"
     ]
    }
   ],
   "source": [
    "#checking feature types\n",
    "df.info()"
   ]
  },
  {
   "cell_type": "code",
   "execution_count": 41,
   "metadata": {
    "ExecuteTime": {
     "end_time": "2023-11-15T16:27:29.286678Z",
     "start_time": "2023-11-15T16:27:29.201644Z"
    }
   },
   "outputs": [
    {
     "data": {
      "text/plain": [
       "Unnamed: 0         0\n",
       "Age                0\n",
       "Accessibility      0\n",
       "EdLevel            0\n",
       "Employment         0\n",
       "Gender             0\n",
       "MentalHealth       0\n",
       "MainBranch         0\n",
       "YearsCode          0\n",
       "YearsCodePro       0\n",
       "Country            0\n",
       "PreviousSalary     0\n",
       "HaveWorkedWith    63\n",
       "ComputerSkills     0\n",
       "Employed           0\n",
       "dtype: int64"
      ]
     },
     "execution_count": 41,
     "metadata": {},
     "output_type": "execute_result"
    }
   ],
   "source": [
    "#checking for null values \n",
    "df.isnull().sum()"
   ]
  },
  {
   "cell_type": "code",
   "execution_count": 42,
   "metadata": {
    "ExecuteTime": {
     "end_time": "2023-11-15T16:27:29.862257Z",
     "start_time": "2023-11-15T16:27:29.850655Z"
    }
   },
   "outputs": [
    {
     "data": {
      "text/plain": [
       "Index(['Unnamed: 0', 'Age', 'Accessibility', 'EdLevel', 'Employment', 'Gender',\n",
       "       'MentalHealth', 'MainBranch', 'YearsCode', 'YearsCodePro', 'Country',\n",
       "       'PreviousSalary', 'HaveWorkedWith', 'ComputerSkills', 'Employed'],\n",
       "      dtype='object')"
      ]
     },
     "execution_count": 42,
     "metadata": {},
     "output_type": "execute_result"
    }
   ],
   "source": [
    "#getting column names\n",
    "df.columns"
   ]
  },
  {
   "cell_type": "code",
   "execution_count": 43,
   "metadata": {
    "ExecuteTime": {
     "end_time": "2023-11-15T16:27:30.532628Z",
     "start_time": "2023-11-15T16:27:30.487072Z"
    }
   },
   "outputs": [
    {
     "data": {
      "text/html": [
       "<div>\n",
       "<style scoped>\n",
       "    .dataframe tbody tr th:only-of-type {\n",
       "        vertical-align: middle;\n",
       "    }\n",
       "\n",
       "    .dataframe tbody tr th {\n",
       "        vertical-align: top;\n",
       "    }\n",
       "\n",
       "    .dataframe thead th {\n",
       "        text-align: right;\n",
       "    }\n",
       "</style>\n",
       "<table border=\"1\" class=\"dataframe\">\n",
       "  <thead>\n",
       "    <tr style=\"text-align: right;\">\n",
       "      <th></th>\n",
       "      <th>Age</th>\n",
       "      <th>Accessibility</th>\n",
       "      <th>EdLevel</th>\n",
       "      <th>Employment</th>\n",
       "      <th>Gender</th>\n",
       "      <th>MentalHealth</th>\n",
       "      <th>MainBranch</th>\n",
       "      <th>YearsCode</th>\n",
       "      <th>YearsCodePro</th>\n",
       "      <th>Country</th>\n",
       "      <th>PreviousSalary</th>\n",
       "      <th>HaveWorkedWith</th>\n",
       "      <th>ComputerSkills</th>\n",
       "      <th>Employed</th>\n",
       "    </tr>\n",
       "  </thead>\n",
       "  <tbody>\n",
       "    <tr>\n",
       "      <th>0</th>\n",
       "      <td>&lt;35</td>\n",
       "      <td>No</td>\n",
       "      <td>Master</td>\n",
       "      <td>1</td>\n",
       "      <td>Man</td>\n",
       "      <td>No</td>\n",
       "      <td>Dev</td>\n",
       "      <td>7</td>\n",
       "      <td>4</td>\n",
       "      <td>Sweden</td>\n",
       "      <td>51552.0</td>\n",
       "      <td>C++;Python;Git;PostgreSQL</td>\n",
       "      <td>4</td>\n",
       "      <td>0</td>\n",
       "    </tr>\n",
       "    <tr>\n",
       "      <th>1</th>\n",
       "      <td>&lt;35</td>\n",
       "      <td>No</td>\n",
       "      <td>Undergraduate</td>\n",
       "      <td>1</td>\n",
       "      <td>Man</td>\n",
       "      <td>No</td>\n",
       "      <td>Dev</td>\n",
       "      <td>12</td>\n",
       "      <td>5</td>\n",
       "      <td>Spain</td>\n",
       "      <td>46482.0</td>\n",
       "      <td>Bash/Shell;HTML/CSS;JavaScript;Node.js;SQL;Typ...</td>\n",
       "      <td>12</td>\n",
       "      <td>1</td>\n",
       "    </tr>\n",
       "  </tbody>\n",
       "</table>\n",
       "</div>"
      ],
      "text/plain": [
       "   Age Accessibility        EdLevel  Employment Gender MentalHealth  \\\n",
       "0  <35            No         Master           1    Man           No   \n",
       "1  <35            No  Undergraduate           1    Man           No   \n",
       "\n",
       "  MainBranch  YearsCode  YearsCodePro Country  PreviousSalary  \\\n",
       "0        Dev          7             4  Sweden         51552.0   \n",
       "1        Dev         12             5   Spain         46482.0   \n",
       "\n",
       "                                      HaveWorkedWith  ComputerSkills  Employed  \n",
       "0                          C++;Python;Git;PostgreSQL               4         0  \n",
       "1  Bash/Shell;HTML/CSS;JavaScript;Node.js;SQL;Typ...              12         1  "
      ]
     },
     "execution_count": 43,
     "metadata": {},
     "output_type": "execute_result"
    }
   ],
   "source": [
    "#dropping first column because it has no significant meaning\n",
    "df = df.drop(['Unnamed: 0'], axis=1)\n",
    "df.head(2)"
   ]
  },
  {
   "cell_type": "code",
   "execution_count": 44,
   "metadata": {
    "ExecuteTime": {
     "end_time": "2023-11-15T16:27:31.174962Z",
     "start_time": "2023-11-15T16:27:31.128816Z"
    }
   },
   "outputs": [
    {
     "data": {
      "text/html": [
       "<div>\n",
       "<style scoped>\n",
       "    .dataframe tbody tr th:only-of-type {\n",
       "        vertical-align: middle;\n",
       "    }\n",
       "\n",
       "    .dataframe tbody tr th {\n",
       "        vertical-align: top;\n",
       "    }\n",
       "\n",
       "    .dataframe thead th {\n",
       "        text-align: right;\n",
       "    }\n",
       "</style>\n",
       "<table border=\"1\" class=\"dataframe\">\n",
       "  <thead>\n",
       "    <tr style=\"text-align: right;\">\n",
       "      <th></th>\n",
       "      <th>Age</th>\n",
       "      <th>Accessibility</th>\n",
       "      <th>EdLevel</th>\n",
       "      <th>Employment</th>\n",
       "      <th>Gender</th>\n",
       "      <th>MentalHealth</th>\n",
       "      <th>MainBranch</th>\n",
       "      <th>YearsCode</th>\n",
       "      <th>YearsCodePro</th>\n",
       "      <th>Country</th>\n",
       "      <th>PreviousSalary</th>\n",
       "      <th>ComputerSkills</th>\n",
       "      <th>Employed</th>\n",
       "    </tr>\n",
       "  </thead>\n",
       "  <tbody>\n",
       "    <tr>\n",
       "      <th>0</th>\n",
       "      <td>&lt;35</td>\n",
       "      <td>No</td>\n",
       "      <td>Master</td>\n",
       "      <td>1</td>\n",
       "      <td>Man</td>\n",
       "      <td>No</td>\n",
       "      <td>Dev</td>\n",
       "      <td>7</td>\n",
       "      <td>4</td>\n",
       "      <td>Sweden</td>\n",
       "      <td>51552.0</td>\n",
       "      <td>4</td>\n",
       "      <td>0</td>\n",
       "    </tr>\n",
       "    <tr>\n",
       "      <th>1</th>\n",
       "      <td>&lt;35</td>\n",
       "      <td>No</td>\n",
       "      <td>Undergraduate</td>\n",
       "      <td>1</td>\n",
       "      <td>Man</td>\n",
       "      <td>No</td>\n",
       "      <td>Dev</td>\n",
       "      <td>12</td>\n",
       "      <td>5</td>\n",
       "      <td>Spain</td>\n",
       "      <td>46482.0</td>\n",
       "      <td>12</td>\n",
       "      <td>1</td>\n",
       "    </tr>\n",
       "  </tbody>\n",
       "</table>\n",
       "</div>"
      ],
      "text/plain": [
       "   Age Accessibility        EdLevel  Employment Gender MentalHealth  \\\n",
       "0  <35            No         Master           1    Man           No   \n",
       "1  <35            No  Undergraduate           1    Man           No   \n",
       "\n",
       "  MainBranch  YearsCode  YearsCodePro Country  PreviousSalary  ComputerSkills  \\\n",
       "0        Dev          7             4  Sweden         51552.0               4   \n",
       "1        Dev         12             5   Spain         46482.0              12   \n",
       "\n",
       "   Employed  \n",
       "0         0  \n",
       "1         1  "
      ]
     },
     "execution_count": 44,
     "metadata": {},
     "output_type": "execute_result"
    }
   ],
   "source": [
    "#dropping HaveWorkedWith - coding abilities are accounted for in the ComputerSkills feature\n",
    "df = df.drop(['HaveWorkedWith'], axis=1)\n",
    "df.head(2)"
   ]
  },
  {
   "cell_type": "code",
   "execution_count": 45,
   "metadata": {
    "ExecuteTime": {
     "end_time": "2023-11-15T16:27:32.053668Z",
     "start_time": "2023-11-15T16:27:31.945641Z"
    }
   },
   "outputs": [
    {
     "data": {
      "text/html": [
       "<div>\n",
       "<style scoped>\n",
       "    .dataframe tbody tr th:only-of-type {\n",
       "        vertical-align: middle;\n",
       "    }\n",
       "\n",
       "    .dataframe tbody tr th {\n",
       "        vertical-align: top;\n",
       "    }\n",
       "\n",
       "    .dataframe thead th {\n",
       "        text-align: right;\n",
       "    }\n",
       "</style>\n",
       "<table border=\"1\" class=\"dataframe\">\n",
       "  <thead>\n",
       "    <tr style=\"text-align: right;\">\n",
       "      <th></th>\n",
       "      <th>Age</th>\n",
       "      <th>Accessibility</th>\n",
       "      <th>EdLevel</th>\n",
       "      <th>Employment</th>\n",
       "      <th>Gender</th>\n",
       "      <th>MentalHealth</th>\n",
       "      <th>MainBranch</th>\n",
       "      <th>YearsCode</th>\n",
       "      <th>YearsCodePro</th>\n",
       "      <th>Country</th>\n",
       "      <th>PreviousSalary</th>\n",
       "      <th>ComputerSkills</th>\n",
       "      <th>Employed</th>\n",
       "      <th>Continent</th>\n",
       "    </tr>\n",
       "  </thead>\n",
       "  <tbody>\n",
       "    <tr>\n",
       "      <th>0</th>\n",
       "      <td>&lt;35</td>\n",
       "      <td>No</td>\n",
       "      <td>Master</td>\n",
       "      <td>1</td>\n",
       "      <td>Man</td>\n",
       "      <td>No</td>\n",
       "      <td>Dev</td>\n",
       "      <td>7</td>\n",
       "      <td>4</td>\n",
       "      <td>Sweden</td>\n",
       "      <td>51552.0</td>\n",
       "      <td>4</td>\n",
       "      <td>0</td>\n",
       "      <td>Europe</td>\n",
       "    </tr>\n",
       "    <tr>\n",
       "      <th>1</th>\n",
       "      <td>&lt;35</td>\n",
       "      <td>No</td>\n",
       "      <td>Undergraduate</td>\n",
       "      <td>1</td>\n",
       "      <td>Man</td>\n",
       "      <td>No</td>\n",
       "      <td>Dev</td>\n",
       "      <td>12</td>\n",
       "      <td>5</td>\n",
       "      <td>Spain</td>\n",
       "      <td>46482.0</td>\n",
       "      <td>12</td>\n",
       "      <td>1</td>\n",
       "      <td>Europe</td>\n",
       "    </tr>\n",
       "    <tr>\n",
       "      <th>2</th>\n",
       "      <td>&lt;35</td>\n",
       "      <td>No</td>\n",
       "      <td>Master</td>\n",
       "      <td>1</td>\n",
       "      <td>Man</td>\n",
       "      <td>No</td>\n",
       "      <td>Dev</td>\n",
       "      <td>15</td>\n",
       "      <td>6</td>\n",
       "      <td>Germany</td>\n",
       "      <td>77290.0</td>\n",
       "      <td>7</td>\n",
       "      <td>0</td>\n",
       "      <td>Europe</td>\n",
       "    </tr>\n",
       "    <tr>\n",
       "      <th>3</th>\n",
       "      <td>&lt;35</td>\n",
       "      <td>No</td>\n",
       "      <td>Undergraduate</td>\n",
       "      <td>1</td>\n",
       "      <td>Man</td>\n",
       "      <td>No</td>\n",
       "      <td>Dev</td>\n",
       "      <td>9</td>\n",
       "      <td>6</td>\n",
       "      <td>Canada</td>\n",
       "      <td>46135.0</td>\n",
       "      <td>13</td>\n",
       "      <td>0</td>\n",
       "      <td>North America</td>\n",
       "    </tr>\n",
       "    <tr>\n",
       "      <th>4</th>\n",
       "      <td>&gt;35</td>\n",
       "      <td>No</td>\n",
       "      <td>PhD</td>\n",
       "      <td>0</td>\n",
       "      <td>Man</td>\n",
       "      <td>No</td>\n",
       "      <td>NotDev</td>\n",
       "      <td>40</td>\n",
       "      <td>30</td>\n",
       "      <td>Singapore</td>\n",
       "      <td>160932.0</td>\n",
       "      <td>2</td>\n",
       "      <td>0</td>\n",
       "      <td>Asia</td>\n",
       "    </tr>\n",
       "  </tbody>\n",
       "</table>\n",
       "</div>"
      ],
      "text/plain": [
       "   Age Accessibility        EdLevel  Employment Gender MentalHealth  \\\n",
       "0  <35            No         Master           1    Man           No   \n",
       "1  <35            No  Undergraduate           1    Man           No   \n",
       "2  <35            No         Master           1    Man           No   \n",
       "3  <35            No  Undergraduate           1    Man           No   \n",
       "4  >35            No            PhD           0    Man           No   \n",
       "\n",
       "  MainBranch  YearsCode  YearsCodePro    Country  PreviousSalary  \\\n",
       "0        Dev          7             4     Sweden         51552.0   \n",
       "1        Dev         12             5      Spain         46482.0   \n",
       "2        Dev         15             6    Germany         77290.0   \n",
       "3        Dev          9             6     Canada         46135.0   \n",
       "4     NotDev         40            30  Singapore        160932.0   \n",
       "\n",
       "   ComputerSkills  Employed      Continent  \n",
       "0               4         0         Europe  \n",
       "1              12         1         Europe  \n",
       "2               7         0         Europe  \n",
       "3              13         0  North America  \n",
       "4               2         0           Asia  "
      ]
     },
     "execution_count": 45,
     "metadata": {},
     "output_type": "execute_result"
    }
   ],
   "source": [
    "#adding continent feature to group country\n",
    "country_to_continent = {\n",
    "'United States of America': 'North America', 'Germany': 'Europe', 'India': 'Asia', 'United Kingdom of Great Britain and Northern Ireland': 'Europe',\n",
    "    'Canada': 'North America', 'France': 'Europe', 'Brazil': 'South America', 'Poland': 'Europe', \n",
    "    'Netherlands': 'Europe', 'Spain': 'Europe', 'Australia': 'Oceania', 'Italy': 'Europe', 'Sweden': 'Europe', \n",
    "    'Russian Federation': 'Europe', 'Switzerland': 'Europe', 'Turkey': 'Europe', 'Austria': 'Europe', 'Israel': 'Asia',\n",
    "    'Czech Republic': 'Europe', 'Mexico': 'North America', 'Belgium': 'Europe', 'Denmark': 'Europe', 'Ukraine': 'Europe',\n",
    "    'Norway': 'Europe', 'Argentina': 'South America', 'Iran, Islamic Republic of...': 'Asia', 'Finland': 'Europe', \n",
    "    'South Africa': 'Africa', 'Pakistan': 'Asia', 'Portugal': 'Europe', 'Romania': 'Europe', 'Greece': 'Europe',\n",
    "    'New Zealand': 'Oceania', 'Hungary': 'Europe', 'Colombia': 'South America', 'Bangladesh': 'Asia', 'Japan': 'Asia',\n",
    "    'Bulgaria': 'Europe', 'China': 'Asia', 'Indonesia': 'Asia', 'Ireland': 'Europe', 'Slovenia': 'Europe', 'Nigeria': 'Africa',\n",
    "    'Serbia': 'Europe', 'Egypt': 'Africa', 'Philippines': 'Asia', 'Sri Lanka': 'Asia', 'Chile': 'South America', \n",
    "    'Croatia': 'Europe', 'Lithuania': 'Europe', 'Taiwan': 'Asia', 'Singapore': 'Asia', 'Malaysia': 'Asia', 'Slovakia': 'Europe',\n",
    "    'Viet Nam': 'Asia', 'Kenya': 'Africa', 'Estonia': 'Europe', 'Uruguay': 'South America', 'Nepal': 'Asia', 'Belarus': 'Europe', \n",
    "    'Thailand': 'Asia', 'Hong Kong (S.A.R.)': 'Asia', 'Peru': 'South America', 'South Korea': 'Asia', \n",
    "    'United Arab Emirates': 'Asia', 'Georgia': 'Asia', 'Venezuela, Bolivarian Republic of...': 'South America',\n",
    "    'Dominican Republic': 'North America', 'Morocco': 'Africa', 'Latvia': 'Europe', 'Ecuador': 'South America', \n",
    "    'Bosnia and Herzegovina': 'Europe', 'Costa Rica': 'North America', 'Armenia': 'Asia', 'Tunisia': 'Africa', \n",
    "    'Saudi Arabia': 'Asia', 'Guatemala': 'North America', 'Kazakhstan': 'Asia', 'Paraguay': 'South America',\n",
    "    'Albania': 'Europe', 'Ghana': 'Africa', 'Luxembourg': 'Europe', 'The former Yugoslav Republic of Macedonia': 'Europe',\n",
    "    'Lebanon': 'Asia', 'Jordan': 'Asia', 'Ethiopia': 'Africa', 'Cyprus': 'Europe', 'Azerbaijan': 'Asia',\n",
    "    'Republic of Korea': 'Asia', 'Bolivia': 'South America', 'Uganda': 'Africa', 'Republic of Moldova': 'Europe',\n",
    "    'Uzbekistan': 'Asia', 'Malta': 'Europe', 'Cuba': 'North America', 'Iceland': 'Europe', 'El Salvador': 'North America', \n",
    "    'Panama': 'North America', 'United Republic of Tanzania': 'Africa', 'Syrian Arab Republic': 'Asia', 'Myanmar': 'Asia',\n",
    "    'Iraq': 'Asia', 'Honduras': 'North America', 'Kosovo': 'Europe', 'Nomadic': 'Unknown', 'Mauritius': 'Africa', \n",
    "    'Cameroon': 'Africa', 'Palestine': 'Asia', 'Montenegro': 'Europe', 'Sudan': 'Africa', 'Algeria': 'Africa', \n",
    "    'Zimbabwe': 'Africa', 'Nicaragua': 'North America', 'Rwanda': 'Africa', 'Kuwait': 'Asia', 'Cambodia': 'Asia', \n",
    "    'Madagascar': 'Africa', 'Kyrgyzstan': 'Asia', 'Afghanistan': 'Asia', \"Côte d'Ivoire\": 'Africa', 'Mongolia': 'Asia',\n",
    "    'Jamaica': 'North America', 'Trinidad and Tobago': 'North America', 'Zambia': 'Africa', 'Senegal': 'Africa', \n",
    "    'Andorra': 'Europe', 'Maldives': 'Asia', 'Bahrain': 'Asia', 'Qatar': 'Asia', 'Namibia': 'Africa', 'Benin': 'Africa',\n",
    "    'Turkmenistan': 'Asia', 'Yemen': 'Asia', 'Democratic Republic of the Congo': 'Africa', 'Angola': 'Africa',\n",
    "    'Oman': 'Asia', 'Congo, Republic of the...': 'Africa', 'Botswana': 'Africa', 'Mozambique': 'Africa',\n",
    "    'Tajikistan': 'Asia', 'Malawi': 'Africa', 'Barbados': 'North America', 'Isle of Man': 'Europe', \n",
    "    'Guyana': 'South America', 'Swaziland': 'Africa', 'Togo': 'Africa', 'Libyan Arab Jamahiriya': 'Africa', \n",
    "    \"Lao People's Democratic Republic\": 'Asia', 'Somalia': 'Africa', 'Lesotho': 'Africa', 'Suriname': 'South America', \n",
    "    'Mali': 'Africa', 'Bhutan': 'Asia', 'Belize': 'North America', 'Guinea': 'Africa', 'Cape Verde': 'Africa', \n",
    "    'Haiti': 'North America', 'Fiji': 'Oceania', 'Timor-Leste': 'Asia', 'Saint Lucia': 'North America', 'Niger': 'Africa', \n",
    "    'Djibouti': 'Africa', 'Liberia': 'Africa', 'Monaco': 'Europe', 'Saint Kitts and Nevis': 'North America',\n",
    "    'Gambia': 'Africa', 'Seychelles': 'Africa', 'Burkina Faso': 'Africa', 'Saint Vincent and the Grenadines': 'North America',\n",
    "    'Burundi': 'Africa', 'Dominica': 'North America', 'Mauritania': 'Africa'\n",
    "\n",
    "}\n",
    "\n",
    "df['Continent'] = df['Country'].map(country_to_continent)\n",
    "\n",
    "df.head()"
   ]
  },
  {
   "cell_type": "code",
   "execution_count": 46,
   "metadata": {
    "ExecuteTime": {
     "end_time": "2023-11-15T16:27:33.081789Z",
     "start_time": "2023-11-15T16:27:33.019048Z"
    }
   },
   "outputs": [
    {
     "data": {
      "text/html": [
       "<div>\n",
       "<style scoped>\n",
       "    .dataframe tbody tr th:only-of-type {\n",
       "        vertical-align: middle;\n",
       "    }\n",
       "\n",
       "    .dataframe tbody tr th {\n",
       "        vertical-align: top;\n",
       "    }\n",
       "\n",
       "    .dataframe thead th {\n",
       "        text-align: right;\n",
       "    }\n",
       "</style>\n",
       "<table border=\"1\" class=\"dataframe\">\n",
       "  <thead>\n",
       "    <tr style=\"text-align: right;\">\n",
       "      <th></th>\n",
       "      <th>Age</th>\n",
       "      <th>Accessibility</th>\n",
       "      <th>EdLevel</th>\n",
       "      <th>Employment</th>\n",
       "      <th>Gender</th>\n",
       "      <th>MentalHealth</th>\n",
       "      <th>MainBranch</th>\n",
       "      <th>YearsCode</th>\n",
       "      <th>YearsCodePro</th>\n",
       "      <th>PreviousSalary</th>\n",
       "      <th>ComputerSkills</th>\n",
       "      <th>Employed</th>\n",
       "      <th>Continent</th>\n",
       "    </tr>\n",
       "  </thead>\n",
       "  <tbody>\n",
       "    <tr>\n",
       "      <th>0</th>\n",
       "      <td>&lt;35</td>\n",
       "      <td>No</td>\n",
       "      <td>Master</td>\n",
       "      <td>1</td>\n",
       "      <td>Man</td>\n",
       "      <td>No</td>\n",
       "      <td>Dev</td>\n",
       "      <td>7</td>\n",
       "      <td>4</td>\n",
       "      <td>51552.0</td>\n",
       "      <td>4</td>\n",
       "      <td>0</td>\n",
       "      <td>Europe</td>\n",
       "    </tr>\n",
       "    <tr>\n",
       "      <th>1</th>\n",
       "      <td>&lt;35</td>\n",
       "      <td>No</td>\n",
       "      <td>Undergraduate</td>\n",
       "      <td>1</td>\n",
       "      <td>Man</td>\n",
       "      <td>No</td>\n",
       "      <td>Dev</td>\n",
       "      <td>12</td>\n",
       "      <td>5</td>\n",
       "      <td>46482.0</td>\n",
       "      <td>12</td>\n",
       "      <td>1</td>\n",
       "      <td>Europe</td>\n",
       "    </tr>\n",
       "  </tbody>\n",
       "</table>\n",
       "</div>"
      ],
      "text/plain": [
       "   Age Accessibility        EdLevel  Employment Gender MentalHealth  \\\n",
       "0  <35            No         Master           1    Man           No   \n",
       "1  <35            No  Undergraduate           1    Man           No   \n",
       "\n",
       "  MainBranch  YearsCode  YearsCodePro  PreviousSalary  ComputerSkills  \\\n",
       "0        Dev          7             4         51552.0               4   \n",
       "1        Dev         12             5         46482.0              12   \n",
       "\n",
       "   Employed Continent  \n",
       "0         0    Europe  \n",
       "1         1    Europe  "
      ]
     },
     "execution_count": 46,
     "metadata": {},
     "output_type": "execute_result"
    }
   ],
   "source": [
    "#dropping Country column - when applying one hot encoder we do not want to end up with 170+ features\n",
    "df = df.drop(['Country'], axis=1)\n",
    "df.head(2)"
   ]
  },
  {
   "cell_type": "code",
   "execution_count": 47,
   "metadata": {
    "ExecuteTime": {
     "end_time": "2023-11-15T16:27:33.927280Z",
     "start_time": "2023-11-15T16:27:33.899220Z"
    }
   },
   "outputs": [
    {
     "data": {
      "text/plain": [
       "['Age',\n",
       " 'Accessibility',\n",
       " 'EdLevel',\n",
       " 'Gender',\n",
       " 'MentalHealth',\n",
       " 'MainBranch',\n",
       " 'Continent']"
      ]
     },
     "execution_count": 47,
     "metadata": {},
     "output_type": "execute_result"
    }
   ],
   "source": [
    "#getting list of names of all the categorical variables\n",
    "cat_var = df.select_dtypes(include=['object']).columns.tolist()\n",
    "cat_var"
   ]
  },
  {
   "cell_type": "code",
   "execution_count": 48,
   "metadata": {
    "ExecuteTime": {
     "end_time": "2023-11-15T16:27:34.805740Z",
     "start_time": "2023-11-15T16:27:34.763475Z"
    }
   },
   "outputs": [
    {
     "data": {
      "text/html": [
       "<div>\n",
       "<style scoped>\n",
       "    .dataframe tbody tr th:only-of-type {\n",
       "        vertical-align: middle;\n",
       "    }\n",
       "\n",
       "    .dataframe tbody tr th {\n",
       "        vertical-align: top;\n",
       "    }\n",
       "\n",
       "    .dataframe thead th {\n",
       "        text-align: right;\n",
       "    }\n",
       "</style>\n",
       "<table border=\"1\" class=\"dataframe\">\n",
       "  <thead>\n",
       "    <tr style=\"text-align: right;\">\n",
       "      <th></th>\n",
       "      <th>Age</th>\n",
       "      <th>Accessibility</th>\n",
       "      <th>EdLevel</th>\n",
       "      <th>Gender</th>\n",
       "      <th>MentalHealth</th>\n",
       "      <th>MainBranch</th>\n",
       "      <th>Continent</th>\n",
       "    </tr>\n",
       "  </thead>\n",
       "  <tbody>\n",
       "    <tr>\n",
       "      <th>0</th>\n",
       "      <td>&lt;35</td>\n",
       "      <td>No</td>\n",
       "      <td>Master</td>\n",
       "      <td>Man</td>\n",
       "      <td>No</td>\n",
       "      <td>Dev</td>\n",
       "      <td>Europe</td>\n",
       "    </tr>\n",
       "    <tr>\n",
       "      <th>1</th>\n",
       "      <td>&lt;35</td>\n",
       "      <td>No</td>\n",
       "      <td>Undergraduate</td>\n",
       "      <td>Man</td>\n",
       "      <td>No</td>\n",
       "      <td>Dev</td>\n",
       "      <td>Europe</td>\n",
       "    </tr>\n",
       "  </tbody>\n",
       "</table>\n",
       "</div>"
      ],
      "text/plain": [
       "   Age Accessibility        EdLevel Gender MentalHealth MainBranch Continent\n",
       "0  <35            No         Master    Man           No        Dev    Europe\n",
       "1  <35            No  Undergraduate    Man           No        Dev    Europe"
      ]
     },
     "execution_count": 48,
     "metadata": {},
     "output_type": "execute_result"
    }
   ],
   "source": [
    "#converting list to a categorical dataframe\n",
    "cat_df = df[cat_var]\n",
    "cat_df.head(2)"
   ]
  },
  {
   "cell_type": "code",
   "execution_count": 49,
   "metadata": {
    "ExecuteTime": {
     "end_time": "2023-11-15T16:27:35.457769Z",
     "start_time": "2023-11-15T16:27:35.440126Z"
    }
   },
   "outputs": [],
   "source": [
    "#prepped to use OneHotEncoder\n",
    "from sklearn.preprocessing import OneHotEncoder"
   ]
  },
  {
   "cell_type": "code",
   "execution_count": 50,
   "metadata": {
    "ExecuteTime": {
     "end_time": "2023-11-15T16:27:36.814539Z",
     "start_time": "2023-11-15T16:27:36.387253Z"
    }
   },
   "outputs": [
    {
     "data": {
      "text/html": [
       "<div>\n",
       "<style scoped>\n",
       "    .dataframe tbody tr th:only-of-type {\n",
       "        vertical-align: middle;\n",
       "    }\n",
       "\n",
       "    .dataframe tbody tr th {\n",
       "        vertical-align: top;\n",
       "    }\n",
       "\n",
       "    .dataframe thead th {\n",
       "        text-align: right;\n",
       "    }\n",
       "</style>\n",
       "<table border=\"1\" class=\"dataframe\">\n",
       "  <thead>\n",
       "    <tr style=\"text-align: right;\">\n",
       "      <th></th>\n",
       "      <th>Age_&lt;35</th>\n",
       "      <th>Age_&gt;35</th>\n",
       "      <th>Accessibility_No</th>\n",
       "      <th>Accessibility_Yes</th>\n",
       "      <th>EdLevel_Master</th>\n",
       "      <th>EdLevel_NoHigherEd</th>\n",
       "      <th>EdLevel_Other</th>\n",
       "      <th>EdLevel_PhD</th>\n",
       "      <th>EdLevel_Undergraduate</th>\n",
       "      <th>Gender_Man</th>\n",
       "      <th>...</th>\n",
       "      <th>MentalHealth_Yes</th>\n",
       "      <th>MainBranch_Dev</th>\n",
       "      <th>MainBranch_NotDev</th>\n",
       "      <th>Continent_Africa</th>\n",
       "      <th>Continent_Asia</th>\n",
       "      <th>Continent_Europe</th>\n",
       "      <th>Continent_North America</th>\n",
       "      <th>Continent_Oceania</th>\n",
       "      <th>Continent_South America</th>\n",
       "      <th>Continent_Unknown</th>\n",
       "    </tr>\n",
       "  </thead>\n",
       "  <tbody>\n",
       "    <tr>\n",
       "      <th>0</th>\n",
       "      <td>1.0</td>\n",
       "      <td>0.0</td>\n",
       "      <td>1.0</td>\n",
       "      <td>0.0</td>\n",
       "      <td>1.0</td>\n",
       "      <td>0.0</td>\n",
       "      <td>0.0</td>\n",
       "      <td>0.0</td>\n",
       "      <td>0.0</td>\n",
       "      <td>1.0</td>\n",
       "      <td>...</td>\n",
       "      <td>0.0</td>\n",
       "      <td>1.0</td>\n",
       "      <td>0.0</td>\n",
       "      <td>0.0</td>\n",
       "      <td>0.0</td>\n",
       "      <td>1.0</td>\n",
       "      <td>0.0</td>\n",
       "      <td>0.0</td>\n",
       "      <td>0.0</td>\n",
       "      <td>0.0</td>\n",
       "    </tr>\n",
       "    <tr>\n",
       "      <th>1</th>\n",
       "      <td>1.0</td>\n",
       "      <td>0.0</td>\n",
       "      <td>1.0</td>\n",
       "      <td>0.0</td>\n",
       "      <td>0.0</td>\n",
       "      <td>0.0</td>\n",
       "      <td>0.0</td>\n",
       "      <td>0.0</td>\n",
       "      <td>1.0</td>\n",
       "      <td>1.0</td>\n",
       "      <td>...</td>\n",
       "      <td>0.0</td>\n",
       "      <td>1.0</td>\n",
       "      <td>0.0</td>\n",
       "      <td>0.0</td>\n",
       "      <td>0.0</td>\n",
       "      <td>1.0</td>\n",
       "      <td>0.0</td>\n",
       "      <td>0.0</td>\n",
       "      <td>0.0</td>\n",
       "      <td>0.0</td>\n",
       "    </tr>\n",
       "    <tr>\n",
       "      <th>2</th>\n",
       "      <td>1.0</td>\n",
       "      <td>0.0</td>\n",
       "      <td>1.0</td>\n",
       "      <td>0.0</td>\n",
       "      <td>1.0</td>\n",
       "      <td>0.0</td>\n",
       "      <td>0.0</td>\n",
       "      <td>0.0</td>\n",
       "      <td>0.0</td>\n",
       "      <td>1.0</td>\n",
       "      <td>...</td>\n",
       "      <td>0.0</td>\n",
       "      <td>1.0</td>\n",
       "      <td>0.0</td>\n",
       "      <td>0.0</td>\n",
       "      <td>0.0</td>\n",
       "      <td>1.0</td>\n",
       "      <td>0.0</td>\n",
       "      <td>0.0</td>\n",
       "      <td>0.0</td>\n",
       "      <td>0.0</td>\n",
       "    </tr>\n",
       "    <tr>\n",
       "      <th>3</th>\n",
       "      <td>1.0</td>\n",
       "      <td>0.0</td>\n",
       "      <td>1.0</td>\n",
       "      <td>0.0</td>\n",
       "      <td>0.0</td>\n",
       "      <td>0.0</td>\n",
       "      <td>0.0</td>\n",
       "      <td>0.0</td>\n",
       "      <td>1.0</td>\n",
       "      <td>1.0</td>\n",
       "      <td>...</td>\n",
       "      <td>0.0</td>\n",
       "      <td>1.0</td>\n",
       "      <td>0.0</td>\n",
       "      <td>0.0</td>\n",
       "      <td>0.0</td>\n",
       "      <td>0.0</td>\n",
       "      <td>1.0</td>\n",
       "      <td>0.0</td>\n",
       "      <td>0.0</td>\n",
       "      <td>0.0</td>\n",
       "    </tr>\n",
       "    <tr>\n",
       "      <th>4</th>\n",
       "      <td>0.0</td>\n",
       "      <td>1.0</td>\n",
       "      <td>1.0</td>\n",
       "      <td>0.0</td>\n",
       "      <td>0.0</td>\n",
       "      <td>0.0</td>\n",
       "      <td>0.0</td>\n",
       "      <td>1.0</td>\n",
       "      <td>0.0</td>\n",
       "      <td>1.0</td>\n",
       "      <td>...</td>\n",
       "      <td>0.0</td>\n",
       "      <td>0.0</td>\n",
       "      <td>1.0</td>\n",
       "      <td>0.0</td>\n",
       "      <td>1.0</td>\n",
       "      <td>0.0</td>\n",
       "      <td>0.0</td>\n",
       "      <td>0.0</td>\n",
       "      <td>0.0</td>\n",
       "      <td>0.0</td>\n",
       "    </tr>\n",
       "  </tbody>\n",
       "</table>\n",
       "<p>5 rows × 23 columns</p>\n",
       "</div>"
      ],
      "text/plain": [
       "   Age_<35  Age_>35  Accessibility_No  Accessibility_Yes  EdLevel_Master  \\\n",
       "0      1.0      0.0               1.0                0.0             1.0   \n",
       "1      1.0      0.0               1.0                0.0             0.0   \n",
       "2      1.0      0.0               1.0                0.0             1.0   \n",
       "3      1.0      0.0               1.0                0.0             0.0   \n",
       "4      0.0      1.0               1.0                0.0             0.0   \n",
       "\n",
       "   EdLevel_NoHigherEd  EdLevel_Other  EdLevel_PhD  EdLevel_Undergraduate  \\\n",
       "0                 0.0            0.0          0.0                    0.0   \n",
       "1                 0.0            0.0          0.0                    1.0   \n",
       "2                 0.0            0.0          0.0                    0.0   \n",
       "3                 0.0            0.0          0.0                    1.0   \n",
       "4                 0.0            0.0          1.0                    0.0   \n",
       "\n",
       "   Gender_Man  ...  MentalHealth_Yes  MainBranch_Dev  MainBranch_NotDev  \\\n",
       "0         1.0  ...               0.0             1.0                0.0   \n",
       "1         1.0  ...               0.0             1.0                0.0   \n",
       "2         1.0  ...               0.0             1.0                0.0   \n",
       "3         1.0  ...               0.0             1.0                0.0   \n",
       "4         1.0  ...               0.0             0.0                1.0   \n",
       "\n",
       "   Continent_Africa  Continent_Asia  Continent_Europe  \\\n",
       "0               0.0             0.0               1.0   \n",
       "1               0.0             0.0               1.0   \n",
       "2               0.0             0.0               1.0   \n",
       "3               0.0             0.0               0.0   \n",
       "4               0.0             1.0               0.0   \n",
       "\n",
       "   Continent_North America  Continent_Oceania  Continent_South America  \\\n",
       "0                      0.0                0.0                      0.0   \n",
       "1                      0.0                0.0                      0.0   \n",
       "2                      0.0                0.0                      0.0   \n",
       "3                      1.0                0.0                      0.0   \n",
       "4                      0.0                0.0                      0.0   \n",
       "\n",
       "   Continent_Unknown  \n",
       "0                0.0  \n",
       "1                0.0  \n",
       "2                0.0  \n",
       "3                0.0  \n",
       "4                0.0  \n",
       "\n",
       "[5 rows x 23 columns]"
      ]
     },
     "execution_count": 50,
     "metadata": {},
     "output_type": "execute_result"
    }
   ],
   "source": [
    "# Perform one-hot encoding - this is stored as an array\n",
    "encoder = OneHotEncoder(sparse=False)\n",
    "categorical_encoded = encoder.fit_transform(cat_df)\n",
    "\n",
    "# creating a dataframe with encoded features\n",
    "categorical_encoded_df = pd.DataFrame(categorical_encoded, \n",
    "                                        columns=encoder.get_feature_names_out())\n",
    "\n",
    "#outputting\n",
    "categorical_encoded_df.head()"
   ]
  },
  {
   "cell_type": "code",
   "execution_count": 51,
   "metadata": {
    "ExecuteTime": {
     "end_time": "2023-11-15T16:27:37.886426Z",
     "start_time": "2023-11-15T16:27:37.866097Z"
    }
   },
   "outputs": [
    {
     "data": {
      "text/plain": [
       "Index(['Age_<35', 'Age_>35', 'Accessibility_No', 'Accessibility_Yes',\n",
       "       'EdLevel_Master', 'EdLevel_NoHigherEd', 'EdLevel_Other', 'EdLevel_PhD',\n",
       "       'EdLevel_Undergraduate', 'Gender_Man', 'Gender_NonBinary',\n",
       "       'Gender_Woman', 'MentalHealth_No', 'MentalHealth_Yes', 'MainBranch_Dev',\n",
       "       'MainBranch_NotDev', 'Continent_Africa', 'Continent_Asia',\n",
       "       'Continent_Europe', 'Continent_North America', 'Continent_Oceania',\n",
       "       'Continent_South America', 'Continent_Unknown'],\n",
       "      dtype='object')"
      ]
     },
     "execution_count": 51,
     "metadata": {},
     "output_type": "execute_result"
    }
   ],
   "source": [
    "categorical_encoded_df.columns"
   ]
  },
  {
   "cell_type": "code",
   "execution_count": 52,
   "metadata": {
    "ExecuteTime": {
     "end_time": "2023-11-15T16:27:38.877397Z",
     "start_time": "2023-11-15T16:27:38.817973Z"
    }
   },
   "outputs": [
    {
     "data": {
      "text/html": [
       "<div>\n",
       "<style scoped>\n",
       "    .dataframe tbody tr th:only-of-type {\n",
       "        vertical-align: middle;\n",
       "    }\n",
       "\n",
       "    .dataframe tbody tr th {\n",
       "        vertical-align: top;\n",
       "    }\n",
       "\n",
       "    .dataframe thead th {\n",
       "        text-align: right;\n",
       "    }\n",
       "</style>\n",
       "<table border=\"1\" class=\"dataframe\">\n",
       "  <thead>\n",
       "    <tr style=\"text-align: right;\">\n",
       "      <th></th>\n",
       "      <th>Age_&lt;35</th>\n",
       "      <th>Accessibility_Yes</th>\n",
       "      <th>EdLevel_Master</th>\n",
       "      <th>EdLevel_NoHigherEd</th>\n",
       "      <th>EdLevel_PhD</th>\n",
       "      <th>EdLevel_Undergraduate</th>\n",
       "      <th>Gender_Man</th>\n",
       "      <th>Gender_Woman</th>\n",
       "      <th>MentalHealth_Yes</th>\n",
       "      <th>MainBranch_Dev</th>\n",
       "      <th>Continent_Africa</th>\n",
       "      <th>Continent_Asia</th>\n",
       "      <th>Continent_Europe</th>\n",
       "      <th>Continent_North America</th>\n",
       "      <th>Continent_Oceania</th>\n",
       "      <th>Continent_South America</th>\n",
       "    </tr>\n",
       "  </thead>\n",
       "  <tbody>\n",
       "    <tr>\n",
       "      <th>0</th>\n",
       "      <td>1.0</td>\n",
       "      <td>0.0</td>\n",
       "      <td>1.0</td>\n",
       "      <td>0.0</td>\n",
       "      <td>0.0</td>\n",
       "      <td>0.0</td>\n",
       "      <td>1.0</td>\n",
       "      <td>0.0</td>\n",
       "      <td>0.0</td>\n",
       "      <td>1.0</td>\n",
       "      <td>0.0</td>\n",
       "      <td>0.0</td>\n",
       "      <td>1.0</td>\n",
       "      <td>0.0</td>\n",
       "      <td>0.0</td>\n",
       "      <td>0.0</td>\n",
       "    </tr>\n",
       "    <tr>\n",
       "      <th>1</th>\n",
       "      <td>1.0</td>\n",
       "      <td>0.0</td>\n",
       "      <td>0.0</td>\n",
       "      <td>0.0</td>\n",
       "      <td>0.0</td>\n",
       "      <td>1.0</td>\n",
       "      <td>1.0</td>\n",
       "      <td>0.0</td>\n",
       "      <td>0.0</td>\n",
       "      <td>1.0</td>\n",
       "      <td>0.0</td>\n",
       "      <td>0.0</td>\n",
       "      <td>1.0</td>\n",
       "      <td>0.0</td>\n",
       "      <td>0.0</td>\n",
       "      <td>0.0</td>\n",
       "    </tr>\n",
       "  </tbody>\n",
       "</table>\n",
       "</div>"
      ],
      "text/plain": [
       "   Age_<35  Accessibility_Yes  EdLevel_Master  EdLevel_NoHigherEd  \\\n",
       "0      1.0                0.0             1.0                 0.0   \n",
       "1      1.0                0.0             0.0                 0.0   \n",
       "\n",
       "   EdLevel_PhD  EdLevel_Undergraduate  Gender_Man  Gender_Woman  \\\n",
       "0          0.0                    0.0         1.0           0.0   \n",
       "1          0.0                    1.0         1.0           0.0   \n",
       "\n",
       "   MentalHealth_Yes  MainBranch_Dev  Continent_Africa  Continent_Asia  \\\n",
       "0               0.0             1.0               0.0             0.0   \n",
       "1               0.0             1.0               0.0             0.0   \n",
       "\n",
       "   Continent_Europe  Continent_North America  Continent_Oceania  \\\n",
       "0               1.0                      0.0                0.0   \n",
       "1               1.0                      0.0                0.0   \n",
       "\n",
       "   Continent_South America  \n",
       "0                      0.0  \n",
       "1                      0.0  "
      ]
     },
     "execution_count": 52,
     "metadata": {},
     "output_type": "execute_result"
    }
   ],
   "source": [
    "#dropping feature to prevent dependencies\n",
    "categorical_encoded_df = categorical_encoded_df.drop(['Age_>35', 'Accessibility_No','EdLevel_Other','Gender_NonBinary',\n",
    "                                                     'MentalHealth_No','MainBranch_NotDev','Continent_Unknown'], axis=1)\n",
    "categorical_encoded_df.head(2)"
   ]
  },
  {
   "cell_type": "code",
   "execution_count": 53,
   "metadata": {
    "ExecuteTime": {
     "end_time": "2023-11-15T16:27:39.927894Z",
     "start_time": "2023-11-15T16:27:39.837345Z"
    },
    "scrolled": true
   },
   "outputs": [
    {
     "data": {
      "text/html": [
       "<div>\n",
       "<style scoped>\n",
       "    .dataframe tbody tr th:only-of-type {\n",
       "        vertical-align: middle;\n",
       "    }\n",
       "\n",
       "    .dataframe tbody tr th {\n",
       "        vertical-align: top;\n",
       "    }\n",
       "\n",
       "    .dataframe thead th {\n",
       "        text-align: right;\n",
       "    }\n",
       "</style>\n",
       "<table border=\"1\" class=\"dataframe\">\n",
       "  <thead>\n",
       "    <tr style=\"text-align: right;\">\n",
       "      <th></th>\n",
       "      <th>Employment</th>\n",
       "      <th>YearsCode</th>\n",
       "      <th>YearsCodePro</th>\n",
       "      <th>PreviousSalary</th>\n",
       "      <th>ComputerSkills</th>\n",
       "      <th>Employed</th>\n",
       "      <th>Age_&lt;35</th>\n",
       "      <th>Accessibility_Yes</th>\n",
       "      <th>EdLevel_Master</th>\n",
       "      <th>EdLevel_NoHigherEd</th>\n",
       "      <th>...</th>\n",
       "      <th>Gender_Man</th>\n",
       "      <th>Gender_Woman</th>\n",
       "      <th>MentalHealth_Yes</th>\n",
       "      <th>MainBranch_Dev</th>\n",
       "      <th>Continent_Africa</th>\n",
       "      <th>Continent_Asia</th>\n",
       "      <th>Continent_Europe</th>\n",
       "      <th>Continent_North America</th>\n",
       "      <th>Continent_Oceania</th>\n",
       "      <th>Continent_South America</th>\n",
       "    </tr>\n",
       "  </thead>\n",
       "  <tbody>\n",
       "    <tr>\n",
       "      <th>0</th>\n",
       "      <td>1</td>\n",
       "      <td>7</td>\n",
       "      <td>4</td>\n",
       "      <td>51552.0</td>\n",
       "      <td>4</td>\n",
       "      <td>0</td>\n",
       "      <td>1.0</td>\n",
       "      <td>0.0</td>\n",
       "      <td>1.0</td>\n",
       "      <td>0.0</td>\n",
       "      <td>...</td>\n",
       "      <td>1.0</td>\n",
       "      <td>0.0</td>\n",
       "      <td>0.0</td>\n",
       "      <td>1.0</td>\n",
       "      <td>0.0</td>\n",
       "      <td>0.0</td>\n",
       "      <td>1.0</td>\n",
       "      <td>0.0</td>\n",
       "      <td>0.0</td>\n",
       "      <td>0.0</td>\n",
       "    </tr>\n",
       "    <tr>\n",
       "      <th>1</th>\n",
       "      <td>1</td>\n",
       "      <td>12</td>\n",
       "      <td>5</td>\n",
       "      <td>46482.0</td>\n",
       "      <td>12</td>\n",
       "      <td>1</td>\n",
       "      <td>1.0</td>\n",
       "      <td>0.0</td>\n",
       "      <td>0.0</td>\n",
       "      <td>0.0</td>\n",
       "      <td>...</td>\n",
       "      <td>1.0</td>\n",
       "      <td>0.0</td>\n",
       "      <td>0.0</td>\n",
       "      <td>1.0</td>\n",
       "      <td>0.0</td>\n",
       "      <td>0.0</td>\n",
       "      <td>1.0</td>\n",
       "      <td>0.0</td>\n",
       "      <td>0.0</td>\n",
       "      <td>0.0</td>\n",
       "    </tr>\n",
       "    <tr>\n",
       "      <th>2</th>\n",
       "      <td>1</td>\n",
       "      <td>15</td>\n",
       "      <td>6</td>\n",
       "      <td>77290.0</td>\n",
       "      <td>7</td>\n",
       "      <td>0</td>\n",
       "      <td>1.0</td>\n",
       "      <td>0.0</td>\n",
       "      <td>1.0</td>\n",
       "      <td>0.0</td>\n",
       "      <td>...</td>\n",
       "      <td>1.0</td>\n",
       "      <td>0.0</td>\n",
       "      <td>0.0</td>\n",
       "      <td>1.0</td>\n",
       "      <td>0.0</td>\n",
       "      <td>0.0</td>\n",
       "      <td>1.0</td>\n",
       "      <td>0.0</td>\n",
       "      <td>0.0</td>\n",
       "      <td>0.0</td>\n",
       "    </tr>\n",
       "    <tr>\n",
       "      <th>3</th>\n",
       "      <td>1</td>\n",
       "      <td>9</td>\n",
       "      <td>6</td>\n",
       "      <td>46135.0</td>\n",
       "      <td>13</td>\n",
       "      <td>0</td>\n",
       "      <td>1.0</td>\n",
       "      <td>0.0</td>\n",
       "      <td>0.0</td>\n",
       "      <td>0.0</td>\n",
       "      <td>...</td>\n",
       "      <td>1.0</td>\n",
       "      <td>0.0</td>\n",
       "      <td>0.0</td>\n",
       "      <td>1.0</td>\n",
       "      <td>0.0</td>\n",
       "      <td>0.0</td>\n",
       "      <td>0.0</td>\n",
       "      <td>1.0</td>\n",
       "      <td>0.0</td>\n",
       "      <td>0.0</td>\n",
       "    </tr>\n",
       "    <tr>\n",
       "      <th>4</th>\n",
       "      <td>0</td>\n",
       "      <td>40</td>\n",
       "      <td>30</td>\n",
       "      <td>160932.0</td>\n",
       "      <td>2</td>\n",
       "      <td>0</td>\n",
       "      <td>0.0</td>\n",
       "      <td>0.0</td>\n",
       "      <td>0.0</td>\n",
       "      <td>0.0</td>\n",
       "      <td>...</td>\n",
       "      <td>1.0</td>\n",
       "      <td>0.0</td>\n",
       "      <td>0.0</td>\n",
       "      <td>0.0</td>\n",
       "      <td>0.0</td>\n",
       "      <td>1.0</td>\n",
       "      <td>0.0</td>\n",
       "      <td>0.0</td>\n",
       "      <td>0.0</td>\n",
       "      <td>0.0</td>\n",
       "    </tr>\n",
       "  </tbody>\n",
       "</table>\n",
       "<p>5 rows × 22 columns</p>\n",
       "</div>"
      ],
      "text/plain": [
       "   Employment  YearsCode  YearsCodePro  PreviousSalary  ComputerSkills  \\\n",
       "0           1          7             4         51552.0               4   \n",
       "1           1         12             5         46482.0              12   \n",
       "2           1         15             6         77290.0               7   \n",
       "3           1          9             6         46135.0              13   \n",
       "4           0         40            30        160932.0               2   \n",
       "\n",
       "   Employed  Age_<35  Accessibility_Yes  EdLevel_Master  EdLevel_NoHigherEd  \\\n",
       "0         0      1.0                0.0             1.0                 0.0   \n",
       "1         1      1.0                0.0             0.0                 0.0   \n",
       "2         0      1.0                0.0             1.0                 0.0   \n",
       "3         0      1.0                0.0             0.0                 0.0   \n",
       "4         0      0.0                0.0             0.0                 0.0   \n",
       "\n",
       "   ...  Gender_Man  Gender_Woman  MentalHealth_Yes  MainBranch_Dev  \\\n",
       "0  ...         1.0           0.0               0.0             1.0   \n",
       "1  ...         1.0           0.0               0.0             1.0   \n",
       "2  ...         1.0           0.0               0.0             1.0   \n",
       "3  ...         1.0           0.0               0.0             1.0   \n",
       "4  ...         1.0           0.0               0.0             0.0   \n",
       "\n",
       "   Continent_Africa  Continent_Asia  Continent_Europe  \\\n",
       "0               0.0             0.0               1.0   \n",
       "1               0.0             0.0               1.0   \n",
       "2               0.0             0.0               1.0   \n",
       "3               0.0             0.0               0.0   \n",
       "4               0.0             1.0               0.0   \n",
       "\n",
       "   Continent_North America  Continent_Oceania  Continent_South America  \n",
       "0                      0.0                0.0                      0.0  \n",
       "1                      0.0                0.0                      0.0  \n",
       "2                      0.0                0.0                      0.0  \n",
       "3                      1.0                0.0                      0.0  \n",
       "4                      0.0                0.0                      0.0  \n",
       "\n",
       "[5 rows x 22 columns]"
      ]
     },
     "execution_count": 53,
     "metadata": {},
     "output_type": "execute_result"
    }
   ],
   "source": [
    "# Drop the original categorical columns from X\n",
    "df_encoded = df.drop(columns=cat_var)\n",
    "\n",
    "# Concatenate the one-hot encoded categorical variables with the rest of the features\n",
    "df_encoded = pd.concat([df_encoded,categorical_encoded_df], axis=1)\n",
    "\n",
    "#viewing dataset\n",
    "df_encoded.head()"
   ]
  },
  {
   "cell_type": "markdown",
   "metadata": {},
   "source": [
    "## ML Preprossesing"
   ]
  },
  {
   "cell_type": "code",
   "execution_count": 54,
   "metadata": {
    "ExecuteTime": {
     "end_time": "2023-11-15T16:27:44.921267Z",
     "start_time": "2023-11-15T16:27:44.880975Z"
    }
   },
   "outputs": [],
   "source": [
    "# Establish our target feature, churn, as our y feature\n",
    "y = df_encoded['Employed']\n",
    "\n",
    "# Drop our target feature from our features dataframe\n",
    "X = df_encoded.drop('Employed', axis = 1)"
   ]
  },
  {
   "cell_type": "code",
   "execution_count": 55,
   "metadata": {
    "ExecuteTime": {
     "end_time": "2023-11-15T16:27:45.482024Z",
     "start_time": "2023-11-15T16:27:45.471222Z"
    }
   },
   "outputs": [],
   "source": [
    "# so far we have created: \n",
    "\n",
    "# df - contains actual values in dataframe\n",
    "# df_encoded - is our encoded dataframe\n",
    "# y - target variable \n",
    "# X - features encoded \n",
    "\n",
    "# before any splitting or training, \n",
    "# pausing to explore trends in the data "
   ]
  },
  {
   "cell_type": "code",
   "execution_count": 71,
   "metadata": {
    "ExecuteTime": {
     "end_time": "2023-11-15T16:39:31.110969Z",
     "start_time": "2023-11-15T16:39:31.090183Z"
    },
    "scrolled": true
   },
   "outputs": [
    {
     "data": {
      "text/plain": [
       "(73462, 21)"
      ]
     },
     "execution_count": 71,
     "metadata": {},
     "output_type": "execute_result"
    }
   ],
   "source": [
    "X.shape"
   ]
  },
  {
   "cell_type": "markdown",
   "metadata": {},
   "source": [
    "## Data Exploration"
   ]
  },
  {
   "cell_type": "code",
   "execution_count": 57,
   "metadata": {
    "ExecuteTime": {
     "end_time": "2023-11-15T16:27:50.325900Z",
     "start_time": "2023-11-15T16:27:50.306029Z"
    }
   },
   "outputs": [],
   "source": [
    "#creating function to exploring relationship between Employment and Variables\n",
    "def paired_bar(df,var,title):\n",
    "    copy = df.copy()\n",
    "    copy = copy.groupby(var)['Employed'].value_counts().to_frame()\n",
    "    copy = copy.rename({'Employed':'pct_total'}, axis = 1).reset_index()\n",
    "    copy['pct_total'] = (copy['pct_total']/len(df)) * 100\n",
    "    a = sns.barplot(x=var, y = 'pct_total', hue = 'Employed', data = copy)\n",
    "    a.set_title(title, fontsize = 12, fontweight = 'bold')\n",
    "    a.set_xticklabels(a.get_xticklabels(), rotation=30)\n",
    "    a.set_ylabel('% of Applicants', fontweight = 'bold')"
   ]
  },
  {
   "cell_type": "code",
   "execution_count": 58,
   "metadata": {
    "ExecuteTime": {
     "end_time": "2023-11-15T16:27:51.522215Z",
     "start_time": "2023-11-15T16:27:50.963633Z"
    }
   },
   "outputs": [
    {
     "data": {
      "image/png": "[encoded data removed]",
      "text/plain": [
       "<Figure size 432x288 with 1 Axes>"
      ]
     },
     "metadata": {
      "needs_background": "light"
     },
     "output_type": "display_data"
    }
   ],
   "source": [
    "#age\n",
    "paired_bar(df=df,var='Age', title='Percent of Applicants by Age')"
   ]
  },
  {
   "cell_type": "code",
   "execution_count": null,
   "metadata": {
    "ExecuteTime": {
     "end_time": "2023-11-15T16:27:51.615230Z",
     "start_time": "2023-11-15T16:27:51.615230Z"
    }
   },
   "outputs": [],
   "source": [
    "#education\n",
    "paired_bar(df=df,var='EdLevel', title='Percent of Applicants by Education')"
   ]
  },
  {
   "cell_type": "code",
   "execution_count": 59,
   "metadata": {
    "ExecuteTime": {
     "end_time": "2023-11-15T16:27:52.346973Z",
     "start_time": "2023-11-15T16:27:51.751381Z"
    }
   },
   "outputs": [
    {
     "data": {
      "image/png": "[encoded data removed]",
      "text/plain": [
       "<Figure size 432x288 with 1 Axes>"
      ]
     },
     "metadata": {
      "needs_background": "light"
     },
     "output_type": "display_data"
    }
   ],
   "source": [
    "#gender\n",
    "paired_bar(df=df,var='Gender', title='Percent of Applicants by Gender')"
   ]
  },
  {
   "cell_type": "code",
   "execution_count": null,
   "metadata": {
    "ExecuteTime": {
     "end_time": "2023-11-15T16:27:52.445090Z",
     "start_time": "2023-11-15T16:27:52.444072Z"
    }
   },
   "outputs": [],
   "source": [
    "#continent\n",
    "paired_bar(df=df,var='Continent', title='Percent of Applicants by Continent')"
   ]
  },
  {
   "cell_type": "code",
   "execution_count": null,
   "metadata": {
    "ExecuteTime": {
     "end_time": "2023-11-15T16:27:52.462760Z",
     "start_time": "2023-11-15T16:27:52.462760Z"
    },
    "scrolled": true
   },
   "outputs": [],
   "source": [
    "#amount of computer skills\n",
    "a= sns.histplot(data=df, x=\"ComputerSkills\", hue=\"Employed\")\n",
    "a.set_title('Distribution of Computer Skills by Job Acceptance', fontweight = 'bold')\n",
    "a.set_xlabel('Number of Computer Skills/Languages')"
   ]
  },
  {
   "cell_type": "markdown",
   "metadata": {},
   "source": [
    "## Machine Learning Algorithms"
   ]
  },
  {
   "cell_type": "code",
   "execution_count": 126,
   "metadata": {
    "ExecuteTime": {
     "end_time": "2023-11-16T02:54:25.635322Z",
     "start_time": "2023-11-16T02:54:25.594861Z"
    }
   },
   "outputs": [],
   "source": [
    "# train test split\n",
    "X_train, X_test, y_train, y_test = train_test_split(X, y, test_size = .25, random_state = 46)"
   ]
  },
  {
   "cell_type": "code",
   "execution_count": 127,
   "metadata": {
    "ExecuteTime": {
     "end_time": "2023-11-16T02:54:26.452115Z",
     "start_time": "2023-11-16T02:54:26.042942Z"
    },
    "scrolled": true
   },
   "outputs": [
    {
     "name": "stdout",
     "output_type": "stream",
     "text": [
      "              precision    recall  f1-score   support\n",
      "\n",
      "           0       0.76      0.74      0.75      8529\n",
      "           1       0.78      0.80      0.79      9837\n",
      "\n",
      "    accuracy                           0.77     18366\n",
      "   macro avg       0.77      0.77      0.77     18366\n",
      "weighted avg       0.77      0.77      0.77     18366\n",
      "\n"
     ]
    }
   ],
   "source": [
    "# logistic regression with report\n",
    "lr_classifier = LogisticRegression(fit_intercept=False, solver='liblinear')\n",
    "lr_classifier.fit(X_train, y_train)\n",
    "lr_predictions = lr_classifier.predict(X_test)\n",
    "lr_accuracy = accuracy_score(y_test, lr_predictions)\n",
    "lr_report = classification_report(y_test, lr_predictions)\n",
    "\n",
    "print(lr_report)"
   ]
  },
  {
   "cell_type": "code",
   "execution_count": 128,
   "metadata": {
    "ExecuteTime": {
     "end_time": "2023-11-16T02:54:27.580797Z",
     "start_time": "2023-11-16T02:54:27.115469Z"
    }
   },
   "outputs": [
    {
     "name": "stdout",
     "output_type": "stream",
     "text": [
      "              precision    recall  f1-score   support\n",
      "\n",
      "           0       0.68      0.70      0.69      8529\n",
      "           1       0.73      0.72      0.73      9837\n",
      "\n",
      "    accuracy                           0.71     18366\n",
      "   macro avg       0.71      0.71      0.71     18366\n",
      "weighted avg       0.71      0.71      0.71     18366\n",
      "\n"
     ]
    }
   ],
   "source": [
    "# decision tree with report\n",
    "dt_classifier = DecisionTreeClassifier()\n",
    "dt_classifier.fit(X_train, y_train)\n",
    "dt_predictions = dt_classifier.predict(X_test)\n",
    "dt_accuracy = accuracy_score(y_test, dt_predictions)\n",
    "dt_report = classification_report(y_test, dt_predictions)\n",
    "\n",
    "print(dt_report)"
   ]
  },
  {
   "cell_type": "code",
   "execution_count": 129,
   "metadata": {
    "ExecuteTime": {
     "end_time": "2023-11-16T02:54:30.928218Z",
     "start_time": "2023-11-16T02:54:28.128370Z"
    }
   },
   "outputs": [
    {
     "name": "stdout",
     "output_type": "stream",
     "text": [
      "              precision    recall  f1-score   support\n",
      "\n",
      "           0       0.66      0.64      0.65      8529\n",
      "           1       0.70      0.72      0.71      9837\n",
      "\n",
      "    accuracy                           0.68     18366\n",
      "   macro avg       0.68      0.68      0.68     18366\n",
      "weighted avg       0.68      0.68      0.68     18366\n",
      "\n"
     ]
    }
   ],
   "source": [
    "# K nearest neighbors with report\n",
    "knn_classifier = KNeighborsClassifier(n_neighbors = 5)\n",
    "knn_classifier.fit(X_train, y_train)\n",
    "knn_predictions = knn_classifier.predict(X_test)\n",
    "knn_accuracy = accuracy_score(y_test, knn_predictions)\n",
    "knn_report = classification_report(y_test, knn_predictions)\n",
    "\n",
    "print(knn_report)"
   ]
  },
  {
   "cell_type": "code",
   "execution_count": 139,
   "metadata": {
    "ExecuteTime": {
     "end_time": "2023-11-16T02:59:10.358230Z",
     "start_time": "2023-11-16T02:58:59.862082Z"
    },
    "scrolled": false
   },
   "outputs": [
    {
     "name": "stdout",
     "output_type": "stream",
     "text": [
      "              precision    recall  f1-score   support\n",
      "\n",
      "           0       0.76      0.73      0.74      8529\n",
      "           1       0.77      0.80      0.79      9837\n",
      "\n",
      "    accuracy                           0.77     18366\n",
      "   macro avg       0.77      0.77      0.77     18366\n",
      "weighted avg       0.77      0.77      0.77     18366\n",
      "\n"
     ]
    }
   ],
   "source": [
    "# Random Forest with report\n",
    "rf_classifier.fit(X_train, y_train)\n",
    "rf_predictions = rf_classifier.predict(X_test)\n",
    "rf_accuracy = accuracy_score(y_test, rf_predictions)\n",
    "rf_report = classification_report(y_test, rf_predictions)\n",
    "\n",
    "print(rf_report)"
   ]
  },
  {
   "cell_type": "code",
   "execution_count": 136,
   "metadata": {
    "ExecuteTime": {
     "end_time": "2023-11-16T02:58:04.152912Z",
     "start_time": "2023-11-16T02:58:04.077330Z"
    }
   },
   "outputs": [
    {
     "name": "stdout",
     "output_type": "stream",
     "text": [
      "LR precision 0.7700366375621432\n",
      "DT precision 0.7092363493901039\n",
      "KNN precision 0.6792795075552103\n",
      "RF precision 0.7676007469258637\n"
     ]
    }
   ],
   "source": [
    "precisionlr = precision_score(y_test, lr_predictions, average='macro')\n",
    "precisiondt = precision_score(y_test, dt_predictions, average='macro')\n",
    "precisionknn = precision_score(y_test, knn_predictions, average='macro')\n",
    "precisionrf = precision_score(y_test, rf_predictions, average='macro')\n",
    "\n",
    "print(\"LR precision\",precisionlr)\n",
    "print(\"DT precision\",precisiondt)\n",
    "print(\"KNN precision\",precisionknn)\n",
    "print(\"RF precision\",precisionrf)"
   ]
  },
  {
   "cell_type": "code",
   "execution_count": 141,
   "metadata": {
    "ExecuteTime": {
     "end_time": "2023-11-16T03:00:09.555830Z",
     "start_time": "2023-11-16T03:00:09.487523Z"
    }
   },
   "outputs": [
    {
     "name": "stdout",
     "output_type": "stream",
     "text": [
      "LR recall 0.7654562903286997\n",
      "DT recall 0.7096845303741168\n",
      "KnN recall 0.6781912032110027\n",
      "RF recall 0.7654562903286997\n"
     ]
    }
   ],
   "source": [
    "recalllr = recall_score(y_test, lr_predictions, average='macro')\n",
    "recalldt = recall_score(y_test, dt_predictions, average='macro')\n",
    "recallknn = recall_score(y_test, knn_predictions, average='macro')\n",
    "recallrf = recall_score(y_test, rf_predictions, average='macro')\n",
    "\n",
    "print(\"LR recall\",recallrf)\n",
    "print(\"DT recall\",recalldt)\n",
    "print(\"KNN recall\",recallknn)\n",
    "print(\"RF recall\",recallrf)"
   ]
  },
  {
   "cell_type": "code",
   "execution_count": 140,
   "metadata": {
    "ExecuteTime": {
     "end_time": "2023-11-16T03:00:07.118779Z",
     "start_time": "2023-11-16T03:00:07.044159Z"
    }
   },
   "outputs": [
    {
     "name": "stdout",
     "output_type": "stream",
     "text": [
      "lR F1 0.7694062647286452\n",
      "DT F1 0.7094088123283149\n",
      "KnN F1 0.6785337447093196\n",
      "Rg F1 0.7661158883822249\n"
     ]
    }
   ],
   "source": [
    "# F1 scores comparison\n",
    "f1lr=f1_score(y_test, lr_predictions,average='macro')\n",
    "f1dt=f1_score(y_test, dt_predictions,average='macro')\n",
    "f1knn=f1_score(y_test, knn_predictions,average='macro')\n",
    "f1rf=f1_score(y_test, rf_predictions,average='macro')\n",
    "\n",
    "print(\"LR F1\",f1lr)\n",
    "print(\"DT F1\",f1dt)\n",
    "print(\"KNN F1\",f1knn)\n",
    "print(\"RF F1\",f1rf)"
   ]
  },
  {
   "cell_type": "code",
   "execution_count": null,
   "metadata": {},
   "outputs": [],
   "source": []
  }
 ],
 "metadata": {
  "hide_input": false,
  "kernelspec": {
   "display_name": "Python 3 (ipykernel)",
   "language": "python",
   "name": "python3"
  },
  "language_info": {
   "codemirror_mode": {
    "name": "ipython",
    "version": 3
   },
   "file_extension": ".py",
   "mimetype": "text/x-python",
   "name": "python",
   "nbconvert_exporter": "python",
   "pygments_lexer": "ipython3",
   "version": "3.8.5"
  },
  "toc": {
   "base_numbering": 1,
   "nav_menu": {},
   "number_sections": true,
   "sideBar": true,
   "skip_h1_title": false,
   "title_cell": "Table of Contents",
   "title_sidebar": "Contents",
   "toc_cell": false,
   "toc_position": {},
   "toc_section_display": true,
   "toc_window_display": false
  },
  "varInspector": {
   "cols": {
    "lenName": 16,
    "lenType": 16,
    "lenVar": 40
   },
   "kernels_config": {
    "python": {
     "delete_cmd_postfix": "",
     "delete_cmd_prefix": "del ",
     "library": "var_list.py",
     "varRefreshCmd": "print(var_dic_list())"
    },
    "r": {
     "delete_cmd_postfix": ") ",
     "delete_cmd_prefix": "rm(",
     "library": "var_list.r",
     "varRefreshCmd": "cat(var_dic_list()) "
    }
   },
   "types_to_exclude": [
    "module",
    "function",
    "builtin_function_or_method",
    "instance",
    "_Feature"
   ],
   "window_display": false
  }
 },
 "nbformat": 4,
 "nbformat_minor": 5
}
